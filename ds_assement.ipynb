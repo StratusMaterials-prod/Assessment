{
 "cells": [
  {
   "cell_type": "markdown",
   "metadata": {},
   "source": [
    "# Data Science Assessment\n",
    "- read csv and print the dataframe\n",
    "- plot bar chart on State, y is the number of customer\n",
    "- plot line chart, x is Purchate Date, y is the Purchase Amount\n",
    "- Create a new table call State_data with below columns\n",
    "  - State, \n",
    "  - number of customers, \n",
    "  - average age, \n",
    "  - total purchase amount"
   ]
  },
  {
   "cell_type": "code",
   "execution_count": 24,
   "metadata": {},
   "outputs": [],
   "source": [
    "# import libraries\n"
   ]
  }
 ],
 "metadata": {
  "kernelspec": {
   "display_name": "Python 3",
   "language": "python",
   "name": "python3"
  },
  "language_info": {
   "codemirror_mode": {
    "name": "ipython",
    "version": 3
   },
   "file_extension": ".py",
   "mimetype": "text/x-python",
   "name": "python",
   "nbconvert_exporter": "python",
   "pygments_lexer": "ipython3",
   "version": "3.11.9"
  }
 },
 "nbformat": 4,
 "nbformat_minor": 2
}
